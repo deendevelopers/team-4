{
 "cells": [
  {
   "cell_type": "code",
   "execution_count": 3,
   "metadata": {},
   "outputs": [
    {
     "name": "stdout",
     "output_type": "stream",
     "text": [
      "Collecting en_vectors_web_lg==2.1.0 from https://github.com/explosion/spacy-models/releases/download/en_vectors_web_lg-2.1.0/en_vectors_web_lg-2.1.0.tar.gz#egg=en_vectors_web_lg==2.1.0\n",
      "\u001b[?25l  Downloading https://github.com/explosion/spacy-models/releases/download/en_vectors_web_lg-2.1.0/en_vectors_web_lg-2.1.0.tar.gz (661.8MB)\n",
      "\u001b[K    100% |████████████████████████████████| 661.8MB 10.7MB/s a 0:00:0111    23% |███████▋                        | 157.0MB 1.8MB/s eta 0:04:44    24% |███████▊                        | 160.6MB 2.4MB/s eta 0:03:32    25% |████████▎                       | 170.3MB 2.8MB/s eta 0:02:59    25% |████████▎                       | 170.7MB 59.6MB/s eta 0:00:09    30% |█████████▋                      | 199.6MB 2.4MB/s eta 0:03:14    33% |██████████▉                     | 224.5MB 1.8MB/s eta 0:04:01    39% |████████████▋                   | 259.9MB 5.6MB/s eta 0:01:13    41% |█████████████▎                  | 275.3MB 7.2MB/s eta 0:00:54    41% |█████████████▎                  | 275.3MB 1.7MB/s eta 0:03:49    42% |█████████████▋                  | 281.5MB 1.5MB/s eta 0:04:06    42% |█████████████▊                  | 283.3MB 1.7MB/s eta 0:03:47    43% |█████████████▉                  | 286.5MB 2.2MB/s eta 0:02:54    45% |██████████████▋                 | 302.0MB 3.5MB/s eta 0:01:44    58% |██████████████████▉             | 388.8MB 2.4MB/s eta 0:01:54    59% |███████████████████▏            | 396.2MB 6.6MB/s eta 0:00:41    65% |█████████████████████           | 432.5MB 1.4MB/s eta 0:02:40    89% |████████████████████████████▊   | 593.9MB 3.1MB/s eta 0:00:22    90% |█████████████████████████████   | 601.6MB 1.7MB/s eta 0:00:35    94% |██████████████████████████████▎ | 626.0MB 3.4MB/s eta 0:00:11    95% |██████████████████████████████▊ | 634.4MB 3.3MB/s eta 0:00:09    99% |████████████████████████████████| 659.7MB 7.5MB/s eta 0:00:01\n",
      "\u001b[?25hInstalling collected packages: en-vectors-web-lg\n",
      "  Running setup.py install for en-vectors-web-lg ... \u001b[?25ldone\n",
      "\u001b[?25hSuccessfully installed en-vectors-web-lg-2.1.0\n",
      "\u001b[38;5;2m✔ Download and installation successful\u001b[0m\n",
      "You can now load the model via spacy.load('en_vectors_web_lg')\n"
     ]
    }
   ],
   "source": [
    "! python -m spacy download en_vectors_web_lg"
   ]
  },
  {
   "cell_type": "code",
   "execution_count": 1,
   "metadata": {},
   "outputs": [],
   "source": [
    "import spacy"
   ]
  },
  {
   "cell_type": "code",
   "execution_count": 2,
   "metadata": {},
   "outputs": [
    {
     "ename": "OSError",
     "evalue": "[E050] Can't find model 'en_core_web_sm'. It doesn't seem to be a shortcut link, a Python package or a valid path to a data directory.",
     "output_type": "error",
     "traceback": [
      "\u001b[0;31m---------------------------------------------------------------------------\u001b[0m",
      "\u001b[0;31mOSError\u001b[0m                                   Traceback (most recent call last)",
      "\u001b[0;32m<ipython-input-2-12102ff9e1a9>\u001b[0m in \u001b[0;36m<module>\u001b[0;34m\u001b[0m\n\u001b[0;32m----> 1\u001b[0;31m \u001b[0mnlp\u001b[0m \u001b[0;34m=\u001b[0m \u001b[0mspacy\u001b[0m\u001b[0;34m.\u001b[0m\u001b[0mload\u001b[0m\u001b[0;34m(\u001b[0m\u001b[0;34m'en_core_web_sm'\u001b[0m\u001b[0;34m)\u001b[0m\u001b[0;34m\u001b[0m\u001b[0;34m\u001b[0m\u001b[0m\n\u001b[0m",
      "\u001b[0;32m~/miniconda3/lib/python3.7/site-packages/spacy/__init__.py\u001b[0m in \u001b[0;36mload\u001b[0;34m(name, **overrides)\u001b[0m\n\u001b[1;32m     25\u001b[0m     \u001b[0;32mif\u001b[0m \u001b[0mdepr_path\u001b[0m \u001b[0;32mnot\u001b[0m \u001b[0;32min\u001b[0m \u001b[0;34m(\u001b[0m\u001b[0;32mTrue\u001b[0m\u001b[0;34m,\u001b[0m \u001b[0;32mFalse\u001b[0m\u001b[0;34m,\u001b[0m \u001b[0;32mNone\u001b[0m\u001b[0;34m)\u001b[0m\u001b[0;34m:\u001b[0m\u001b[0;34m\u001b[0m\u001b[0;34m\u001b[0m\u001b[0m\n\u001b[1;32m     26\u001b[0m         \u001b[0mdeprecation_warning\u001b[0m\u001b[0;34m(\u001b[0m\u001b[0mWarnings\u001b[0m\u001b[0;34m.\u001b[0m\u001b[0mW001\u001b[0m\u001b[0;34m.\u001b[0m\u001b[0mformat\u001b[0m\u001b[0;34m(\u001b[0m\u001b[0mpath\u001b[0m\u001b[0;34m=\u001b[0m\u001b[0mdepr_path\u001b[0m\u001b[0;34m)\u001b[0m\u001b[0;34m)\u001b[0m\u001b[0;34m\u001b[0m\u001b[0;34m\u001b[0m\u001b[0m\n\u001b[0;32m---> 27\u001b[0;31m     \u001b[0;32mreturn\u001b[0m \u001b[0mutil\u001b[0m\u001b[0;34m.\u001b[0m\u001b[0mload_model\u001b[0m\u001b[0;34m(\u001b[0m\u001b[0mname\u001b[0m\u001b[0;34m,\u001b[0m \u001b[0;34m**\u001b[0m\u001b[0moverrides\u001b[0m\u001b[0;34m)\u001b[0m\u001b[0;34m\u001b[0m\u001b[0;34m\u001b[0m\u001b[0m\n\u001b[0m\u001b[1;32m     28\u001b[0m \u001b[0;34m\u001b[0m\u001b[0m\n\u001b[1;32m     29\u001b[0m \u001b[0;34m\u001b[0m\u001b[0m\n",
      "\u001b[0;32m~/miniconda3/lib/python3.7/site-packages/spacy/util.py\u001b[0m in \u001b[0;36mload_model\u001b[0;34m(name, **overrides)\u001b[0m\n\u001b[1;32m    134\u001b[0m     \u001b[0;32melif\u001b[0m \u001b[0mhasattr\u001b[0m\u001b[0;34m(\u001b[0m\u001b[0mname\u001b[0m\u001b[0;34m,\u001b[0m \u001b[0;34m\"exists\"\u001b[0m\u001b[0;34m)\u001b[0m\u001b[0;34m:\u001b[0m  \u001b[0;31m# Path or Path-like to model data\u001b[0m\u001b[0;34m\u001b[0m\u001b[0;34m\u001b[0m\u001b[0m\n\u001b[1;32m    135\u001b[0m         \u001b[0;32mreturn\u001b[0m \u001b[0mload_model_from_path\u001b[0m\u001b[0;34m(\u001b[0m\u001b[0mname\u001b[0m\u001b[0;34m,\u001b[0m \u001b[0;34m**\u001b[0m\u001b[0moverrides\u001b[0m\u001b[0;34m)\u001b[0m\u001b[0;34m\u001b[0m\u001b[0;34m\u001b[0m\u001b[0m\n\u001b[0;32m--> 136\u001b[0;31m     \u001b[0;32mraise\u001b[0m \u001b[0mIOError\u001b[0m\u001b[0;34m(\u001b[0m\u001b[0mErrors\u001b[0m\u001b[0;34m.\u001b[0m\u001b[0mE050\u001b[0m\u001b[0;34m.\u001b[0m\u001b[0mformat\u001b[0m\u001b[0;34m(\u001b[0m\u001b[0mname\u001b[0m\u001b[0;34m=\u001b[0m\u001b[0mname\u001b[0m\u001b[0;34m)\u001b[0m\u001b[0;34m)\u001b[0m\u001b[0;34m\u001b[0m\u001b[0;34m\u001b[0m\u001b[0m\n\u001b[0m\u001b[1;32m    137\u001b[0m \u001b[0;34m\u001b[0m\u001b[0m\n\u001b[1;32m    138\u001b[0m \u001b[0;34m\u001b[0m\u001b[0m\n",
      "\u001b[0;31mOSError\u001b[0m: [E050] Can't find model 'en_core_web_sm'. It doesn't seem to be a shortcut link, a Python package or a valid path to a data directory."
     ]
    }
   ],
   "source": [
    "nlp = spacy.load('en_core_web_sm')"
   ]
  },
  {
   "cell_type": "code",
   "execution_count": 4,
   "metadata": {},
   "outputs": [],
   "source": [
    "import pickle"
   ]
  },
  {
   "cell_type": "code",
   "execution_count": 6,
   "metadata": {},
   "outputs": [
    {
     "ename": "TypeError",
     "evalue": "file must have 'read' and 'readline' attributes",
     "output_type": "error",
     "traceback": [
      "\u001b[0;31m---------------------------------------------------------------------------\u001b[0m",
      "\u001b[0;31mTypeError\u001b[0m                                 Traceback (most recent call last)",
      "\u001b[0;32m<ipython-input-6-145689e54fe1>\u001b[0m in \u001b[0;36m<module>\u001b[0;34m\u001b[0m\n\u001b[0;32m----> 1\u001b[0;31m \u001b[0md\u001b[0m \u001b[0;34m=\u001b[0m \u001b[0mpickle\u001b[0m\u001b[0;34m.\u001b[0m\u001b[0mload\u001b[0m\u001b[0;34m(\u001b[0m\u001b[0;34m'../models/tfidf_model.pkl'\u001b[0m\u001b[0;34m)\u001b[0m\u001b[0;34m\u001b[0m\u001b[0;34m\u001b[0m\u001b[0m\n\u001b[0m",
      "\u001b[0;31mTypeError\u001b[0m: file must have 'read' and 'readline' attributes"
     ]
    }
   ],
   "source": [
    "d = pickle.load('../models/tfidf_model.pkl')"
   ]
  },
  {
   "cell_type": "code",
   "execution_count": 7,
   "metadata": {},
   "outputs": [],
   "source": [
    "import pandas as pd"
   ]
  },
  {
   "cell_type": "code",
   "execution_count": 8,
   "metadata": {},
   "outputs": [],
   "source": [
    "quran_df = pd.read_csv('../data/quran_data.csv')"
   ]
  },
  {
   "cell_type": "code",
   "execution_count": 9,
   "metadata": {},
   "outputs": [],
   "source": [
    "translation_df = pd.read_csv('../data/en-sahih.csv')"
   ]
  },
  {
   "cell_type": "code",
   "execution_count": 10,
   "metadata": {},
   "outputs": [
    {
     "data": {
      "text/html": [
       "<div>\n",
       "<style scoped>\n",
       "    .dataframe tbody tr th:only-of-type {\n",
       "        vertical-align: middle;\n",
       "    }\n",
       "\n",
       "    .dataframe tbody tr th {\n",
       "        vertical-align: top;\n",
       "    }\n",
       "\n",
       "    .dataframe thead th {\n",
       "        text-align: right;\n",
       "    }\n",
       "</style>\n",
       "<table border=\"1\" class=\"dataframe\">\n",
       "  <thead>\n",
       "    <tr style=\"text-align: right;\">\n",
       "      <th></th>\n",
       "      <th>Surah Name</th>\n",
       "      <th>Surah Number</th>\n",
       "      <th>Verse Number</th>\n",
       "      <th>Verse Text</th>\n",
       "    </tr>\n",
       "  </thead>\n",
       "  <tbody>\n",
       "    <tr>\n",
       "      <th>0</th>\n",
       "      <td>الفاتحة</td>\n",
       "      <td>1</td>\n",
       "      <td>1</td>\n",
       "      <td>بِسْمِ اللَّهِ الرَّحْمَنِ الرَّحِيمِ</td>\n",
       "    </tr>\n",
       "    <tr>\n",
       "      <th>1</th>\n",
       "      <td>الفاتحة</td>\n",
       "      <td>1</td>\n",
       "      <td>2</td>\n",
       "      <td>الْحَمْدُ لِلَّهِ رَبِّ الْعَالَمِينَ</td>\n",
       "    </tr>\n",
       "    <tr>\n",
       "      <th>2</th>\n",
       "      <td>الفاتحة</td>\n",
       "      <td>1</td>\n",
       "      <td>3</td>\n",
       "      <td>الرَّحْمَنِ الرَّحِيمِ</td>\n",
       "    </tr>\n",
       "    <tr>\n",
       "      <th>3</th>\n",
       "      <td>الفاتحة</td>\n",
       "      <td>1</td>\n",
       "      <td>4</td>\n",
       "      <td>مَالِكِ يَوْمِ الدِّينِ</td>\n",
       "    </tr>\n",
       "    <tr>\n",
       "      <th>4</th>\n",
       "      <td>الفاتحة</td>\n",
       "      <td>1</td>\n",
       "      <td>5</td>\n",
       "      <td>إِيَّاكَ نَعْبُدُ وَإِيَّاكَ نَسْتَعِينُ</td>\n",
       "    </tr>\n",
       "  </tbody>\n",
       "</table>\n",
       "</div>"
      ],
      "text/plain": [
       "  Surah Name  Surah Number  Verse Number  \\\n",
       "0    الفاتحة             1             1   \n",
       "1    الفاتحة             1             2   \n",
       "2    الفاتحة             1             3   \n",
       "3    الفاتحة             1             4   \n",
       "4    الفاتحة             1             5   \n",
       "\n",
       "                                 Verse Text  \n",
       "0     بِسْمِ اللَّهِ الرَّحْمَنِ الرَّحِيمِ  \n",
       "1     الْحَمْدُ لِلَّهِ رَبِّ الْعَالَمِينَ  \n",
       "2                    الرَّحْمَنِ الرَّحِيمِ  \n",
       "3                   مَالِكِ يَوْمِ الدِّينِ  \n",
       "4  إِيَّاكَ نَعْبُدُ وَإِيَّاكَ نَسْتَعِينُ  "
      ]
     },
     "execution_count": 10,
     "metadata": {},
     "output_type": "execute_result"
    }
   ],
   "source": [
    "quran_df.head()"
   ]
  },
  {
   "cell_type": "code",
   "execution_count": 11,
   "metadata": {},
   "outputs": [
    {
     "data": {
      "text/html": [
       "<div>\n",
       "<style scoped>\n",
       "    .dataframe tbody tr th:only-of-type {\n",
       "        vertical-align: middle;\n",
       "    }\n",
       "\n",
       "    .dataframe tbody tr th {\n",
       "        vertical-align: top;\n",
       "    }\n",
       "\n",
       "    .dataframe thead th {\n",
       "        text-align: right;\n",
       "    }\n",
       "</style>\n",
       "<table border=\"1\" class=\"dataframe\">\n",
       "  <thead>\n",
       "    <tr style=\"text-align: right;\">\n",
       "      <th></th>\n",
       "      <th>Surah Name</th>\n",
       "      <th>Surah Number</th>\n",
       "      <th>Verse Number</th>\n",
       "      <th>Verse Text</th>\n",
       "    </tr>\n",
       "  </thead>\n",
       "  <tbody>\n",
       "    <tr>\n",
       "      <th>0</th>\n",
       "      <td>الفاتحة</td>\n",
       "      <td>1</td>\n",
       "      <td>1</td>\n",
       "      <td>In the name of Allah, the Entirely Merciful, t...</td>\n",
       "    </tr>\n",
       "    <tr>\n",
       "      <th>1</th>\n",
       "      <td>الفاتحة</td>\n",
       "      <td>1</td>\n",
       "      <td>2</td>\n",
       "      <td>[All] praise is [due] to Allah, Lord of the wo...</td>\n",
       "    </tr>\n",
       "    <tr>\n",
       "      <th>2</th>\n",
       "      <td>الفاتحة</td>\n",
       "      <td>1</td>\n",
       "      <td>3</td>\n",
       "      <td>The Entirely Merciful, the Especially Merciful,</td>\n",
       "    </tr>\n",
       "    <tr>\n",
       "      <th>3</th>\n",
       "      <td>الفاتحة</td>\n",
       "      <td>1</td>\n",
       "      <td>4</td>\n",
       "      <td>Sovereign of the Day of Recompense.</td>\n",
       "    </tr>\n",
       "    <tr>\n",
       "      <th>4</th>\n",
       "      <td>الفاتحة</td>\n",
       "      <td>1</td>\n",
       "      <td>5</td>\n",
       "      <td>It is You we worship and You we ask for help.</td>\n",
       "    </tr>\n",
       "  </tbody>\n",
       "</table>\n",
       "</div>"
      ],
      "text/plain": [
       "  Surah Name  Surah Number  Verse Number  \\\n",
       "0    الفاتحة             1             1   \n",
       "1    الفاتحة             1             2   \n",
       "2    الفاتحة             1             3   \n",
       "3    الفاتحة             1             4   \n",
       "4    الفاتحة             1             5   \n",
       "\n",
       "                                          Verse Text  \n",
       "0  In the name of Allah, the Entirely Merciful, t...  \n",
       "1  [All] praise is [due] to Allah, Lord of the wo...  \n",
       "2    The Entirely Merciful, the Especially Merciful,  \n",
       "3                Sovereign of the Day of Recompense.  \n",
       "4      It is You we worship and You we ask for help.  "
      ]
     },
     "execution_count": 11,
     "metadata": {},
     "output_type": "execute_result"
    }
   ],
   "source": [
    "translation_df.head()"
   ]
  },
  {
   "cell_type": "code",
   "execution_count": 12,
   "metadata": {},
   "outputs": [],
   "source": [
    "quran_df['Verse Translation'] = translation_df['Verse Text']"
   ]
  },
  {
   "cell_type": "code",
   "execution_count": 13,
   "metadata": {},
   "outputs": [
    {
     "data": {
      "text/html": [
       "<div>\n",
       "<style scoped>\n",
       "    .dataframe tbody tr th:only-of-type {\n",
       "        vertical-align: middle;\n",
       "    }\n",
       "\n",
       "    .dataframe tbody tr th {\n",
       "        vertical-align: top;\n",
       "    }\n",
       "\n",
       "    .dataframe thead th {\n",
       "        text-align: right;\n",
       "    }\n",
       "</style>\n",
       "<table border=\"1\" class=\"dataframe\">\n",
       "  <thead>\n",
       "    <tr style=\"text-align: right;\">\n",
       "      <th></th>\n",
       "      <th>Surah Name</th>\n",
       "      <th>Surah Number</th>\n",
       "      <th>Verse Number</th>\n",
       "      <th>Verse Text</th>\n",
       "      <th>Verse Translation</th>\n",
       "    </tr>\n",
       "  </thead>\n",
       "  <tbody>\n",
       "    <tr>\n",
       "      <th>0</th>\n",
       "      <td>الفاتحة</td>\n",
       "      <td>1</td>\n",
       "      <td>1</td>\n",
       "      <td>بِسْمِ اللَّهِ الرَّحْمَنِ الرَّحِيمِ</td>\n",
       "      <td>In the name of Allah, the Entirely Merciful, t...</td>\n",
       "    </tr>\n",
       "    <tr>\n",
       "      <th>1</th>\n",
       "      <td>الفاتحة</td>\n",
       "      <td>1</td>\n",
       "      <td>2</td>\n",
       "      <td>الْحَمْدُ لِلَّهِ رَبِّ الْعَالَمِينَ</td>\n",
       "      <td>[All] praise is [due] to Allah, Lord of the wo...</td>\n",
       "    </tr>\n",
       "    <tr>\n",
       "      <th>2</th>\n",
       "      <td>الفاتحة</td>\n",
       "      <td>1</td>\n",
       "      <td>3</td>\n",
       "      <td>الرَّحْمَنِ الرَّحِيمِ</td>\n",
       "      <td>The Entirely Merciful, the Especially Merciful,</td>\n",
       "    </tr>\n",
       "    <tr>\n",
       "      <th>3</th>\n",
       "      <td>الفاتحة</td>\n",
       "      <td>1</td>\n",
       "      <td>4</td>\n",
       "      <td>مَالِكِ يَوْمِ الدِّينِ</td>\n",
       "      <td>Sovereign of the Day of Recompense.</td>\n",
       "    </tr>\n",
       "    <tr>\n",
       "      <th>4</th>\n",
       "      <td>الفاتحة</td>\n",
       "      <td>1</td>\n",
       "      <td>5</td>\n",
       "      <td>إِيَّاكَ نَعْبُدُ وَإِيَّاكَ نَسْتَعِينُ</td>\n",
       "      <td>It is You we worship and You we ask for help.</td>\n",
       "    </tr>\n",
       "  </tbody>\n",
       "</table>\n",
       "</div>"
      ],
      "text/plain": [
       "  Surah Name  Surah Number  Verse Number  \\\n",
       "0    الفاتحة             1             1   \n",
       "1    الفاتحة             1             2   \n",
       "2    الفاتحة             1             3   \n",
       "3    الفاتحة             1             4   \n",
       "4    الفاتحة             1             5   \n",
       "\n",
       "                                 Verse Text  \\\n",
       "0     بِسْمِ اللَّهِ الرَّحْمَنِ الرَّحِيمِ   \n",
       "1     الْحَمْدُ لِلَّهِ رَبِّ الْعَالَمِينَ   \n",
       "2                    الرَّحْمَنِ الرَّحِيمِ   \n",
       "3                   مَالِكِ يَوْمِ الدِّينِ   \n",
       "4  إِيَّاكَ نَعْبُدُ وَإِيَّاكَ نَسْتَعِينُ   \n",
       "\n",
       "                                   Verse Translation  \n",
       "0  In the name of Allah, the Entirely Merciful, t...  \n",
       "1  [All] praise is [due] to Allah, Lord of the wo...  \n",
       "2    The Entirely Merciful, the Especially Merciful,  \n",
       "3                Sovereign of the Day of Recompense.  \n",
       "4      It is You we worship and You we ask for help.  "
      ]
     },
     "execution_count": 13,
     "metadata": {},
     "output_type": "execute_result"
    }
   ],
   "source": [
    "quran_df.head()"
   ]
  },
  {
   "cell_type": "code",
   "execution_count": null,
   "metadata": {},
   "outputs": [],
   "source": []
  },
  {
   "cell_type": "code",
   "execution_count": 14,
   "metadata": {},
   "outputs": [],
   "source": [
    "quran_df.to_csv('../data/quran_with_trans.csv', index=False)"
   ]
  },
  {
   "cell_type": "code",
   "execution_count": 1,
   "metadata": {},
   "outputs": [],
   "source": [
    "import os"
   ]
  },
  {
   "cell_type": "code",
   "execution_count": 2,
   "metadata": {},
   "outputs": [
    {
     "data": {
      "text/plain": [
       "'/Users/uwaisiqbal/PycharmProjects/team-4/notebooks'"
      ]
     },
     "execution_count": 2,
     "metadata": {},
     "output_type": "execute_result"
    }
   ],
   "source": [
    "os.getcwd()"
   ]
  },
  {
   "cell_type": "code",
   "execution_count": 3,
   "metadata": {},
   "outputs": [],
   "source": [
    "os.chdir('../')"
   ]
  },
  {
   "cell_type": "code",
   "execution_count": 4,
   "metadata": {},
   "outputs": [
    {
     "name": "stdout",
     "output_type": "stream",
     "text": [
      "/Users/uwaisiqbal/PycharmProjects/team-4\n"
     ]
    },
    {
     "name": "stderr",
     "output_type": "stream",
     "text": [
      "[nltk_data] Downloading package stopwords to\n",
      "[nltk_data]     /Users/uwaisiqbal/nltk_data...\n",
      "[nltk_data]   Package stopwords is already up-to-date!\n"
     ]
    }
   ],
   "source": [
    "from app.query import Query"
   ]
  },
  {
   "cell_type": "code",
   "execution_count": 5,
   "metadata": {},
   "outputs": [
    {
     "name": "stderr",
     "output_type": "stream",
     "text": [
      "/Users/uwaisiqbal/miniconda3/lib/python3.7/site-packages/smart_open/smart_open_lib.py:398: UserWarning: This function is deprecated, use smart_open.open instead. See the migration notes for details: https://github.com/RaRe-Technologies/smart_open/blob/master/README.rst#migrating-to-the-new-open-function\n",
      "  'See the migration notes for details: %s' % _MIGRATION_NOTES_URL\n"
     ]
    },
    {
     "name": "stdout",
     "output_type": "stream",
     "text": [
      "     Surah Name  Surah Number  Verse Number  \\\n",
      "5575    القيامة          75.0          25.0   \n",
      "5575        NaN           NaN           NaN   \n",
      "4826      النجم          53.0          43.0   \n",
      "5042    الواقعة          56.0          64.0   \n",
      "5042        NaN           NaN           NaN   \n",
      "6181     الهمزة         104.0           3.0   \n",
      "6181        NaN           NaN           NaN   \n",
      "5048    الواقعة          56.0          70.0   \n",
      "5048        NaN           NaN           NaN   \n",
      "\n",
      "                                             Verse Text  \\\n",
      "5575              تَظُنُّ أَنْ يُفْعَلَ بِهَا فَاقِرَةٌ   \n",
      "5575                                                NaN   \n",
      "4826                  وَأَنَّهُ هُوَ أَضْحَكَ وَأَبْكَى   \n",
      "5042  أَأَنْتُمْ تَزْرَعُونَهُ أَمْ نَحْنُ الزَّارِع...   \n",
      "5042                                                NaN   \n",
      "6181                  يَحْسَبُ أَنَّ مَالَهُ أَخْلَدَهُ   \n",
      "6181                                                NaN   \n",
      "5048  لَوْ نَشَاءُ جَعَلْنَاهُ أُجَاجًا فَلَوْلَا تَ...   \n",
      "5048                                                NaN   \n",
      "\n",
      "                                      Verse Translation  \\\n",
      "5575  Expecting that there will be done to them [som...   \n",
      "5575                                                NaN   \n",
      "4826   And that it is He who makes [one] laugh and weep   \n",
      "5042  Is it you who makes it grow, or are We the gro...   \n",
      "5042                                                NaN   \n",
      "6181  He thinks that his wealth will make him immortal.   \n",
      "6181                                                NaN   \n",
      "5048  If We willed, We could make it bitter, so why ...   \n",
      "5048                                                NaN   \n",
      "\n",
      "                          chain_indx  \\\n",
      "5575                             NaN   \n",
      "5575  30367, 20001, 11013, 10567, 13   \n",
      "4826                             NaN   \n",
      "5042                             NaN   \n",
      "5042                30020, 10567, 13   \n",
      "6181                             NaN   \n",
      "6181         30329, 20295, 11019, 19   \n",
      "5048                             NaN   \n",
      "5048  30300, 20291, 11065, 10511, 53   \n",
      "\n",
      "                                       chapter  chapter_no  hadith_id  \\\n",
      "5575                                       NaN         NaN        NaN   \n",
      "5575                      Medicine - كتاب الطب        76.0     5614.0   \n",
      "4826                                       NaN         NaN        NaN   \n",
      "5042                                       NaN         NaN        NaN   \n",
      "5042  Wedlock; Marriage (Nikaah) - كتاب النكاح        67.0     5076.0   \n",
      "6181                                       NaN         NaN        NaN   \n",
      "6181                Invocations - كتاب الدعوات        80.0       80.0   \n",
      "5048                                       NaN         NaN        NaN   \n",
      "5048  Wedlock; Marriage (Nikaah) - كتاب النكاح        67.0     5082.0   \n",
      "\n",
      "     hadith_no     id           source  \\\n",
      "5575       NaN    NaN              NaN   \n",
      "5575     5818    74.0   Sahih Bukhari    \n",
      "4826       NaN    NaN              NaN   \n",
      "5042       NaN    NaN              NaN   \n",
      "5042     5278   158.0   Sahih Bukhari    \n",
      "6181       NaN    NaN              NaN   \n",
      "6181     6436    59.0   Sahih Bukhari    \n",
      "5048       NaN    NaN              NaN   \n",
      "5048     5284   164.0   Sahih Bukhari    \n",
      "\n",
      "                                                text_ar  \\\n",
      "5575                                                NaN   \n",
      "5575  حدثنا قتيبة، عن مالك، عن ابن شهاب، عن أبي سلمة...   \n",
      "4826                                                NaN   \n",
      "5042                                                NaN   \n",
      "5042  وعن يحيى، أن أبا سلمة، حدثه أن أبا هريرة حدثه ...   \n",
      "6181                                                NaN   \n",
      "6181  حدثنا حفص بن عمر، حدثنا هشام، عن قتادة، عن أنس...   \n",
      "5048                                                NaN   \n",
      "5048  حدثني أحمد بن أبي رجاء، حدثنا النضر، عن هشام، ...   \n",
      "\n",
      "                                                text_en  \n",
      "5575                                                NaN  \n",
      "5575   Narrated Abu Huraira:                     Two...  \n",
      "4826                                                NaN  \n",
      "5042                                                NaN  \n",
      "5042   Narrated Abu Huraira:                     The...  \n",
      "6181                                                NaN  \n",
      "6181   Narrated Anas:                     Once the p...  \n",
      "5048                                                NaN  \n",
      "5048   Narrated `Aisha:                     I never ...  \n"
     ]
    },
    {
     "name": "stderr",
     "output_type": "stream",
     "text": [
      "/Users/uwaisiqbal/miniconda3/lib/python3.7/site-packages/pandas/core/frame.py:6692: FutureWarning: Sorting because non-concatenation axis is not aligned. A future version\n",
      "of pandas will change to not sort by default.\n",
      "\n",
      "To accept the future behavior, pass 'sort=False'.\n",
      "\n",
      "To retain the current behavior and silence the warning, pass 'sort=True'.\n",
      "\n",
      "  sort=sort)\n"
     ]
    }
   ],
   "source": [
    "# TODO - Add in tranlsation to quran dataframe\n",
    "query = Query()\n",
    "results = query.query_similar_items('something to make me happy')\n",
    "print(results)"
   ]
  },
  {
   "cell_type": "code",
   "execution_count": 49,
   "metadata": {},
   "outputs": [
    {
     "data": {
      "text/html": [
       "<div>\n",
       "<style scoped>\n",
       "    .dataframe tbody tr th:only-of-type {\n",
       "        vertical-align: middle;\n",
       "    }\n",
       "\n",
       "    .dataframe tbody tr th {\n",
       "        vertical-align: top;\n",
       "    }\n",
       "\n",
       "    .dataframe thead th {\n",
       "        text-align: right;\n",
       "    }\n",
       "</style>\n",
       "<table border=\"1\" class=\"dataframe\">\n",
       "  <thead>\n",
       "    <tr style=\"text-align: right;\">\n",
       "      <th></th>\n",
       "      <th>Surah Name</th>\n",
       "      <th>Surah Number</th>\n",
       "      <th>Verse Number</th>\n",
       "      <th>Verse Text</th>\n",
       "      <th>Verse Translation</th>\n",
       "      <th>chain_indx</th>\n",
       "      <th>chapter</th>\n",
       "      <th>chapter_no</th>\n",
       "      <th>hadith_id</th>\n",
       "      <th>hadith_no</th>\n",
       "      <th>id</th>\n",
       "      <th>source</th>\n",
       "      <th>text_ar</th>\n",
       "      <th>text_en</th>\n",
       "    </tr>\n",
       "  </thead>\n",
       "  <tbody>\n",
       "    <tr>\n",
       "      <th>5575</th>\n",
       "      <td>القيامة</td>\n",
       "      <td>75</td>\n",
       "      <td>25</td>\n",
       "      <td>تَظُنُّ أَنْ يُفْعَلَ بِهَا فَاقِرَةٌ</td>\n",
       "      <td>Expecting that there will be done to them [som...</td>\n",
       "      <td>None</td>\n",
       "      <td>None</td>\n",
       "      <td>None</td>\n",
       "      <td>None</td>\n",
       "      <td>None</td>\n",
       "      <td>None</td>\n",
       "      <td>None</td>\n",
       "      <td>None</td>\n",
       "      <td>None</td>\n",
       "    </tr>\n",
       "    <tr>\n",
       "      <th>5575</th>\n",
       "      <td>None</td>\n",
       "      <td>None</td>\n",
       "      <td>None</td>\n",
       "      <td>None</td>\n",
       "      <td>None</td>\n",
       "      <td>30367, 20001, 11013, 10567, 13</td>\n",
       "      <td>Medicine - كتاب الطب</td>\n",
       "      <td>76</td>\n",
       "      <td>5614</td>\n",
       "      <td>5818</td>\n",
       "      <td>74</td>\n",
       "      <td>Sahih Bukhari</td>\n",
       "      <td>حدثنا قتيبة، عن مالك، عن ابن شهاب، عن أبي سلمة...</td>\n",
       "      <td>Narrated Abu Huraira:                     Two...</td>\n",
       "    </tr>\n",
       "    <tr>\n",
       "      <th>4826</th>\n",
       "      <td>النجم</td>\n",
       "      <td>53</td>\n",
       "      <td>43</td>\n",
       "      <td>وَأَنَّهُ هُوَ أَضْحَكَ وَأَبْكَى</td>\n",
       "      <td>And that it is He who makes [one] laugh and weep</td>\n",
       "      <td>None</td>\n",
       "      <td>None</td>\n",
       "      <td>None</td>\n",
       "      <td>None</td>\n",
       "      <td>None</td>\n",
       "      <td>None</td>\n",
       "      <td>None</td>\n",
       "      <td>None</td>\n",
       "      <td>None</td>\n",
       "    </tr>\n",
       "    <tr>\n",
       "      <th>5042</th>\n",
       "      <td>الواقعة</td>\n",
       "      <td>56</td>\n",
       "      <td>64</td>\n",
       "      <td>أَأَنْتُمْ تَزْرَعُونَهُ أَمْ نَحْنُ الزَّارِع...</td>\n",
       "      <td>Is it you who makes it grow, or are We the gro...</td>\n",
       "      <td>None</td>\n",
       "      <td>None</td>\n",
       "      <td>None</td>\n",
       "      <td>None</td>\n",
       "      <td>None</td>\n",
       "      <td>None</td>\n",
       "      <td>None</td>\n",
       "      <td>None</td>\n",
       "      <td>None</td>\n",
       "    </tr>\n",
       "    <tr>\n",
       "      <th>5042</th>\n",
       "      <td>None</td>\n",
       "      <td>None</td>\n",
       "      <td>None</td>\n",
       "      <td>None</td>\n",
       "      <td>None</td>\n",
       "      <td>30020, 10567, 13</td>\n",
       "      <td>Wedlock; Marriage (Nikaah) - كتاب النكاح</td>\n",
       "      <td>67</td>\n",
       "      <td>5076</td>\n",
       "      <td>5278</td>\n",
       "      <td>158</td>\n",
       "      <td>Sahih Bukhari</td>\n",
       "      <td>وعن يحيى، أن أبا سلمة، حدثه أن أبا هريرة حدثه ...</td>\n",
       "      <td>Narrated Abu Huraira:                     The...</td>\n",
       "    </tr>\n",
       "  </tbody>\n",
       "</table>\n",
       "</div>"
      ],
      "text/plain": [
       "     Surah Name Surah Number Verse Number  \\\n",
       "5575    القيامة           75           25   \n",
       "5575       None         None         None   \n",
       "4826      النجم           53           43   \n",
       "5042    الواقعة           56           64   \n",
       "5042       None         None         None   \n",
       "\n",
       "                                             Verse Text  \\\n",
       "5575              تَظُنُّ أَنْ يُفْعَلَ بِهَا فَاقِرَةٌ   \n",
       "5575                                               None   \n",
       "4826                  وَأَنَّهُ هُوَ أَضْحَكَ وَأَبْكَى   \n",
       "5042  أَأَنْتُمْ تَزْرَعُونَهُ أَمْ نَحْنُ الزَّارِع...   \n",
       "5042                                               None   \n",
       "\n",
       "                                      Verse Translation  \\\n",
       "5575  Expecting that there will be done to them [som...   \n",
       "5575                                               None   \n",
       "4826   And that it is He who makes [one] laugh and weep   \n",
       "5042  Is it you who makes it grow, or are We the gro...   \n",
       "5042                                               None   \n",
       "\n",
       "                          chain_indx  \\\n",
       "5575                            None   \n",
       "5575  30367, 20001, 11013, 10567, 13   \n",
       "4826                            None   \n",
       "5042                            None   \n",
       "5042                30020, 10567, 13   \n",
       "\n",
       "                                       chapter chapter_no hadith_id hadith_no  \\\n",
       "5575                                      None       None      None      None   \n",
       "5575                      Medicine - كتاب الطب         76      5614     5818    \n",
       "4826                                      None       None      None      None   \n",
       "5042                                      None       None      None      None   \n",
       "5042  Wedlock; Marriage (Nikaah) - كتاب النكاح         67      5076     5278    \n",
       "\n",
       "        id           source  \\\n",
       "5575  None             None   \n",
       "5575    74   Sahih Bukhari    \n",
       "4826  None             None   \n",
       "5042  None             None   \n",
       "5042   158   Sahih Bukhari    \n",
       "\n",
       "                                                text_ar  \\\n",
       "5575                                               None   \n",
       "5575  حدثنا قتيبة، عن مالك، عن ابن شهاب، عن أبي سلمة...   \n",
       "4826                                               None   \n",
       "5042                                               None   \n",
       "5042  وعن يحيى، أن أبا سلمة، حدثه أن أبا هريرة حدثه ...   \n",
       "\n",
       "                                                text_en  \n",
       "5575                                               None  \n",
       "5575   Narrated Abu Huraira:                     Two...  \n",
       "4826                                               None  \n",
       "5042                                               None  \n",
       "5042   Narrated Abu Huraira:                     The...  "
      ]
     },
     "execution_count": 49,
     "metadata": {},
     "output_type": "execute_result"
    }
   ],
   "source": [
    "results.head(5)"
   ]
  },
  {
   "cell_type": "code",
   "execution_count": 19,
   "metadata": {},
   "outputs": [],
   "source": [
    "results = results.fillna('None')"
   ]
  },
  {
   "cell_type": "code",
   "execution_count": 47,
   "metadata": {},
   "outputs": [
    {
     "data": {
      "text/plain": [
       "9"
      ]
     },
     "execution_count": 47,
     "metadata": {},
     "output_type": "execute_result"
    }
   ],
   "source": [
    "len(results)"
   ]
  },
  {
   "cell_type": "code",
   "execution_count": 28,
   "metadata": {},
   "outputs": [],
   "source": [
    "def parse_hadith(row):\n",
    "    return {\n",
    "        'type': 'hadith'\n",
    "        'chapterNo': row['chapter_no'],\n",
    "        'hadithNo': row['hadith_no'],\n",
    "        'chapter': row['chapter'],\n",
    "        'textAr': row['text_ar'],\n",
    "        'textEn': row['text_en']\n",
    "    }"
   ]
  },
  {
   "cell_type": "code",
   "execution_count": 30,
   "metadata": {},
   "outputs": [],
   "source": [
    "def parse_verse(row):\n",
    "    return {\n",
    "        'type': 'verse',\n",
    "        'surahName': row['Surah Name'],\n",
    "        'surahNo': row['Surah Number'],\n",
    "        'verseNo': row['Verse Number'],\n",
    "        'textAr': row['Verse Text'],\n",
    "        'textEn': row['Verse Translation']\n",
    "    }"
   ]
  },
  {
   "cell_type": "code",
   "execution_count": 44,
   "metadata": {},
   "outputs": [],
   "source": [
    "json_data = []\n",
    "for index, row in results.iterrows():\n",
    "    row_type = 'hadith' if row['Surah Name'] == 'None' else 'verse'; row_type\n",
    "    data = parse_hadith(row) if row_type == 'hadith' else parse_verse(row)\n",
    "    json_data.append(data)"
   ]
  },
  {
   "cell_type": "code",
   "execution_count": 46,
   "metadata": {},
   "outputs": [
    {
     "data": {
      "text/plain": [
       "9"
      ]
     },
     "execution_count": 46,
     "metadata": {},
     "output_type": "execute_result"
    }
   ],
   "source": [
    "len(json_data)"
   ]
  },
  {
   "cell_type": "code",
   "execution_count": null,
   "metadata": {},
   "outputs": [],
   "source": []
  }
 ],
 "metadata": {
  "kernelspec": {
   "display_name": "Python 3",
   "language": "python",
   "name": "python3"
  },
  "language_info": {
   "codemirror_mode": {
    "name": "ipython",
    "version": 3
   },
   "file_extension": ".py",
   "mimetype": "text/x-python",
   "name": "python",
   "nbconvert_exporter": "python",
   "pygments_lexer": "ipython3",
   "version": "3.7.1"
  }
 },
 "nbformat": 4,
 "nbformat_minor": 2
}
