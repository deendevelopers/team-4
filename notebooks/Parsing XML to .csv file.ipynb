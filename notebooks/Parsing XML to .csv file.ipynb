{
 "cells": [
  {
   "cell_type": "code",
   "execution_count": 1,
   "metadata": {},
   "outputs": [],
   "source": [
    "import pandas as pd\n",
    "import xml.etree.ElementTree as et\n",
    "import matplotlib.pyplot as plt\n",
    "%matplotlib inline"
   ]
  },
  {
   "cell_type": "code",
   "execution_count": 2,
   "metadata": {},
   "outputs": [],
   "source": [
    "xml_file = et.parse('../data/quran-simple.xml')"
   ]
  },
  {
   "cell_type": "code",
   "execution_count": 3,
   "metadata": {},
   "outputs": [],
   "source": [
    "root = xml_file.getroot()"
   ]
  },
  {
   "cell_type": "code",
   "execution_count": 4,
   "metadata": {},
   "outputs": [],
   "source": [
    "columns = ['Surah Name', 'Surah Number', 'Verse Number', 'Verse Text']"
   ]
  },
  {
   "cell_type": "code",
   "execution_count": 5,
   "metadata": {},
   "outputs": [
    {
     "name": "stdout",
     "output_type": "stream",
     "text": [
      "1\n",
      "2\n",
      "3\n",
      "4\n",
      "5\n",
      "6\n",
      "7\n",
      "8\n",
      "9\n",
      "10\n",
      "11\n",
      "12\n",
      "13\n",
      "14\n",
      "15\n",
      "16\n",
      "17\n",
      "18\n",
      "19\n",
      "20\n",
      "21\n",
      "22\n",
      "23\n",
      "24\n",
      "25\n",
      "26\n",
      "27\n",
      "28\n",
      "29\n",
      "30\n",
      "31\n",
      "32\n",
      "33\n",
      "34\n",
      "35\n",
      "36\n",
      "37\n",
      "38\n",
      "39\n",
      "40\n",
      "41\n",
      "42\n",
      "43\n",
      "44\n",
      "45\n",
      "46\n",
      "47\n",
      "48\n",
      "49\n",
      "50\n",
      "51\n",
      "52\n",
      "53\n",
      "54\n",
      "55\n",
      "56\n",
      "57\n",
      "58\n",
      "59\n",
      "60\n",
      "61\n",
      "62\n",
      "63\n",
      "64\n",
      "65\n",
      "66\n",
      "67\n",
      "68\n",
      "69\n",
      "70\n",
      "71\n",
      "72\n",
      "73\n",
      "74\n",
      "75\n",
      "76\n",
      "77\n",
      "78\n",
      "79\n",
      "80\n",
      "81\n",
      "82\n",
      "83\n",
      "84\n",
      "85\n",
      "86\n",
      "87\n",
      "88\n",
      "89\n",
      "90\n",
      "91\n",
      "92\n",
      "93\n",
      "94\n",
      "95\n",
      "96\n",
      "97\n",
      "98\n",
      "99\n",
      "100\n",
      "101\n",
      "102\n",
      "103\n",
      "104\n",
      "105\n",
      "106\n",
      "107\n",
      "108\n",
      "109\n",
      "110\n",
      "111\n",
      "112\n",
      "113\n",
      "114\n"
     ]
    }
   ],
   "source": [
    "df = pd.DataFrame(columns=columns)\n",
    "\n",
    "for sura_element in root:\n",
    "    sura_num = int(sura_element.attrib.get('index'))\n",
    "    sura_name = sura_element.attrib.get('name')\n",
    "    for verse_element in sura_element:\n",
    "        verse_num = int(verse_element.get('index'))\n",
    "        verse_text = verse_element.get('text')\n",
    "        df = df.append(pd.Series([sura_name, sura_num, verse_num, verse_text], index=columns),\n",
    "                      ignore_index=True)"
   ]
  },
  {
   "cell_type": "code",
   "execution_count": 21,
   "metadata": {},
   "outputs": [
    {
     "name": "stdout",
     "output_type": "stream",
     "text": [
      "6236\n"
     ]
    }
   ],
   "source": [
    "print(len(df))"
   ]
  },
  {
   "cell_type": "code",
   "execution_count": 8,
   "metadata": {},
   "outputs": [
    {
     "name": "stdout",
     "output_type": "stream",
     "text": [
      "1 7\n",
      "2 286\n",
      "3 200\n",
      "4 176\n",
      "5 120\n",
      "6 165\n",
      "7 206\n",
      "8 75\n",
      "9 129\n",
      "10 109\n",
      "11 123\n",
      "12 111\n",
      "13 43\n",
      "14 52\n",
      "15 99\n",
      "16 128\n",
      "17 111\n",
      "18 110\n",
      "19 98\n",
      "20 135\n",
      "21 112\n",
      "22 78\n",
      "23 118\n",
      "24 64\n",
      "25 77\n",
      "26 227\n",
      "27 93\n",
      "28 88\n",
      "29 69\n",
      "30 60\n",
      "31 34\n",
      "32 30\n",
      "33 73\n",
      "34 54\n",
      "35 45\n",
      "36 83\n",
      "37 182\n",
      "38 88\n",
      "39 75\n",
      "40 85\n",
      "41 54\n",
      "42 53\n",
      "43 89\n",
      "44 59\n",
      "45 37\n",
      "46 35\n",
      "47 38\n",
      "48 29\n",
      "49 18\n",
      "50 45\n",
      "51 60\n",
      "52 49\n",
      "53 62\n",
      "54 55\n",
      "55 78\n",
      "56 96\n",
      "57 29\n",
      "58 22\n",
      "59 24\n",
      "60 13\n",
      "61 14\n",
      "62 11\n",
      "63 11\n",
      "64 18\n",
      "65 12\n",
      "66 12\n",
      "67 30\n",
      "68 52\n",
      "69 52\n",
      "70 44\n",
      "71 28\n",
      "72 28\n",
      "73 20\n",
      "74 56\n",
      "75 40\n",
      "76 31\n",
      "77 50\n",
      "78 40\n",
      "79 46\n",
      "80 42\n",
      "81 29\n",
      "82 19\n",
      "83 36\n",
      "84 25\n",
      "85 22\n",
      "86 17\n",
      "87 19\n",
      "88 26\n",
      "89 30\n",
      "90 20\n",
      "91 15\n",
      "92 21\n",
      "93 11\n",
      "94 8\n",
      "95 8\n",
      "96 19\n",
      "97 5\n",
      "98 8\n",
      "99 8\n",
      "100 11\n",
      "101 11\n",
      "102 8\n",
      "103 3\n",
      "104 9\n",
      "105 5\n",
      "106 4\n",
      "107 7\n",
      "108 3\n",
      "109 6\n",
      "110 3\n",
      "111 5\n",
      "112 4\n",
      "113 5\n",
      "114 6\n"
     ]
    }
   ],
   "source": [
    "for index, group in df.groupby(['Surah Number']):\n",
    "    print(index, len(group))"
   ]
  },
  {
   "cell_type": "code",
   "execution_count": 13,
   "metadata": {},
   "outputs": [
    {
     "data": {
      "text/plain": [
       "Text(0, 0.5, 'Number of Verses')"
      ]
     },
     "execution_count": 13,
     "metadata": {},
     "output_type": "execute_result"
    },
    {
     "data": {
      "image/png": "[encoded data removed]",
      "text/plain": [
       "<Figure size 1440x1080 with 1 Axes>"
      ]
     },
     "metadata": {
      "needs_background": "light"
     },
     "output_type": "display_data"
    }
   ],
   "source": [
    "ax = df.groupby(['Surah Number']).size().plot(kind='bar', figsize=(20, 15), title='Number of Verses Per Surah')\n",
    "ax.set_ylabel('Number of Verses')"
   ]
  },
  {
   "cell_type": "code",
   "execution_count": 17,
   "metadata": {},
   "outputs": [],
   "source": [
    "df.to_csv('../data/quran_data.csv', index=False)"
   ]
  },
  {
   "cell_type": "code",
   "execution_count": 18,
   "metadata": {},
   "outputs": [],
   "source": [
    "loaded_df = pd.read_csv('../data/quran_data.csv')"
   ]
  },
  {
   "cell_type": "code",
   "execution_count": 19,
   "metadata": {},
   "outputs": [
    {
     "data": {
      "text/html": [
       "<div>\n",
       "<style scoped>\n",
       "    .dataframe tbody tr th:only-of-type {\n",
       "        vertical-align: middle;\n",
       "    }\n",
       "\n",
       "    .dataframe tbody tr th {\n",
       "        vertical-align: top;\n",
       "    }\n",
       "\n",
       "    .dataframe thead th {\n",
       "        text-align: right;\n",
       "    }\n",
       "</style>\n",
       "<table border=\"1\" class=\"dataframe\">\n",
       "  <thead>\n",
       "    <tr style=\"text-align: right;\">\n",
       "      <th></th>\n",
       "      <th>Surah Name</th>\n",
       "      <th>Surah Number</th>\n",
       "      <th>Verse Number</th>\n",
       "      <th>Verse Text</th>\n",
       "    </tr>\n",
       "  </thead>\n",
       "  <tbody>\n",
       "    <tr>\n",
       "      <th>0</th>\n",
       "      <td>الفاتحة</td>\n",
       "      <td>1</td>\n",
       "      <td>1</td>\n",
       "      <td>بِسْمِ اللَّهِ الرَّحْمَنِ الرَّحِيمِ</td>\n",
       "    </tr>\n",
       "    <tr>\n",
       "      <th>1</th>\n",
       "      <td>الفاتحة</td>\n",
       "      <td>1</td>\n",
       "      <td>2</td>\n",
       "      <td>الْحَمْدُ لِلَّهِ رَبِّ الْعَالَمِينَ</td>\n",
       "    </tr>\n",
       "    <tr>\n",
       "      <th>2</th>\n",
       "      <td>الفاتحة</td>\n",
       "      <td>1</td>\n",
       "      <td>3</td>\n",
       "      <td>الرَّحْمَنِ الرَّحِيمِ</td>\n",
       "    </tr>\n",
       "    <tr>\n",
       "      <th>3</th>\n",
       "      <td>الفاتحة</td>\n",
       "      <td>1</td>\n",
       "      <td>4</td>\n",
       "      <td>مَالِكِ يَوْمِ الدِّينِ</td>\n",
       "    </tr>\n",
       "    <tr>\n",
       "      <th>4</th>\n",
       "      <td>الفاتحة</td>\n",
       "      <td>1</td>\n",
       "      <td>5</td>\n",
       "      <td>إِيَّاكَ نَعْبُدُ وَإِيَّاكَ نَسْتَعِينُ</td>\n",
       "    </tr>\n",
       "  </tbody>\n",
       "</table>\n",
       "</div>"
      ],
      "text/plain": [
       "  Surah Name  Surah Number  Verse Number  \\\n",
       "0    الفاتحة             1             1   \n",
       "1    الفاتحة             1             2   \n",
       "2    الفاتحة             1             3   \n",
       "3    الفاتحة             1             4   \n",
       "4    الفاتحة             1             5   \n",
       "\n",
       "                                 Verse Text  \n",
       "0     بِسْمِ اللَّهِ الرَّحْمَنِ الرَّحِيمِ  \n",
       "1     الْحَمْدُ لِلَّهِ رَبِّ الْعَالَمِينَ  \n",
       "2                    الرَّحْمَنِ الرَّحِيمِ  \n",
       "3                   مَالِكِ يَوْمِ الدِّينِ  \n",
       "4  إِيَّاكَ نَعْبُدُ وَإِيَّاكَ نَسْتَعِينُ  "
      ]
     },
     "execution_count": 19,
     "metadata": {},
     "output_type": "execute_result"
    }
   ],
   "source": [
    "loaded_df.head()"
   ]
  },
  {
   "cell_type": "code",
   "execution_count": null,
   "metadata": {},
   "outputs": [],
   "source": []
  }
 ],
 "metadata": {
  "kernelspec": {
   "display_name": "Python 3",
   "language": "python",
   "name": "python3"
  },
  "language_info": {
   "codemirror_mode": {
    "name": "ipython",
    "version": 3
   },
   "file_extension": ".py",
   "mimetype": "text/x-python",
   "name": "python",
   "nbconvert_exporter": "python",
   "pygments_lexer": "ipython3",
   "version": "3.7.1"
  }
 },
 "nbformat": 4,
 "nbformat_minor": 2
}
